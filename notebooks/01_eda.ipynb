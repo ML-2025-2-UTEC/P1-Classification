{
 "cells": [
  {
   "cell_type": "markdown",
   "metadata": {},
   "source": [
    "# Notebook 1: Análisis Exploratorio de Datos (EDA)\n",
    "\n",
    "Este notebook utiliza los módulos de `src/` para realizar un análisis exploratorio de datos reproducible sobre el conjunto de datos de entrenamiento."
   ]
  },
  {
   "cell_type": "code",
   "execution_count": null,
   "metadata": {},
   "outputs": [],
   "source": [
    "import sys\n",
    "import os\n",
    "import pandas as pd\n",
    "\n",
    "# Añadir la carpeta 'src' al path para poder importar los módulos locales\n",
    "sys.path.append(os.path.abspath(os.path.join('..', 'src')))\n",
    "\n",
    "from eda.eda_report import ejecutar_eda"
   ]
  },
  {
   "cell_type": "markdown",
   "metadata": {},
   "source": [
    "## Configuración\n",
    "\n",
    "Definimos las rutas a los datos y la columna objetivo."
   ]
  },
  {
   "cell_type": "code",
   "execution_count": null,
   "metadata": {},
   "outputs": [],
   "source": [
    "# Asumimos que los datos crudos están en data/raw/\n",
    "RUTA_DATOS_ENTRENAMIENTO = '../data/raw/datos_entrenamiento_riesgo.csv'\n",
    "COLUMNA_OBJETIVO = 'nivel_riesgo' # Adaptar si el nombre de la columna es diferente"
   ]
  },
  {
   "cell_type": "markdown",
   "metadata": {},
   "source": [
    "## Ejecución del EDA\n",
    "\n",
    "Llamamos a la función principal de nuestro script de EDA. Esta función se encargará de:\n",
    "1. Cargar los datos.\n",
    "2. Generar resúmenes estadísticos.\n",
    "3. Crear y guardar visualizaciones (histogramas, boxplots, heatmaps, etc.).\n",
    "4. Guardar todos los artefactos en el directorio `reports/`."
   ]
  },
  {
   "cell_type": "code",
   "execution_count": null,
   "metadata": {},
   "outputs": [],
   "source": [
    "if os.path.exists(RUTA_DATOS_ENTRENAMIENTO):\n",
    "    ejecutar_eda(ruta_archivo=RUTA_DATOS_ENTRENAMIENTO, col_objetivo=COLUMNA_OBJETIVO)\n",
    "else:\n",
    "    print(f\"Error: No se encontró el archivo de datos en '{RUTA_DATOS_ENTRENAMIENTO}'.\")\n",
    "    print(\"Por favor, asegúrate de que 'datos_entrenamiento_riesgo.csv' se encuentra en la carpeta 'data/raw'.\")"
   ]
  },
  {
   "cell_type": "markdown",
   "metadata": {},
   "source": [
    "## Resultados\n",
    "\n",
    "Una vez ejecutado el script, puedes encontrar todos los reportes y figuras generados en el directorio `reports/` en la raíz del proyecto."
   ]
  }
 ],
 "metadata": {
  "kernelspec": {
   "display_name": "Python 3",
   "language": "python",
   "name": "python3"
  },
  "language_info": {
   "name": "python",
   "version": "3.9.7"
  }
 },
 "nbformat": 4,
 "nbformat_minor": 4
}