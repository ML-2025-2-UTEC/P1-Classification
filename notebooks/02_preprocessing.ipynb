{
 "cells": [
  {
   "cell_type": "markdown",
   "metadata": {},
   "source": [
    "# Notebook 2: Preprocesamiento y Construcción de Características\n",
    "\n",
    "Este notebook demuestra el uso de los módulos de `src/features` para:\n",
    "1. Aplicar transformaciones manuales (imputación, escalado, one-hot encoding).\n",
    "2. Construir nuevas características (ingeniería de características)."
   ]
  },
  {
   "cell_type": "code",
   "execution_count": null,
   "metadata": {},
   "outputs": [],
   "source": [
    "import sys\n",
    "import os\n",
    "import pandas as pd\n",
    "import numpy as np\n",
    "\n",
    "# Añadir la carpeta 'src' al path\n",
    "sys.path.append(os.path.abspath(os.path.join('..', 'src')))\n",
    "\n",
    "from data.loader import cargar_csv_crudo, guardar_df_procesado\n",
    "from features.transformers_manual import ImputadorNumericoMediana, ImputadorCategoricoModa, EscaladorEstandarManual, OneHotManual\n",
    "from features.build_features import construir_caracteristicas"
   ]
  },
  {
   "cell_type": "markdown",
   "metadata": {},
   "source": [
    "## 1. Cargar Datos Crudos\n",
    "\n",
    "Cargamos el conjunto de datos de entrenamiento para aplicar las transformaciones."
   ]
  },
  {
   "cell_type": "code",
   "execution_count": null,
   "metadata": {},
   "outputs": [],
   "source": [
    "RUTA_DATOS_ENTRENAMIENTO = '../data/raw/datos_entrenamiento_riesgo.csv'\n",
    "df = cargar_csv_crudo(os.path.basename(RUTA_DATOS_ENTRENAMIENTO))"
   ]
  },
  {
   "cell_type": "markdown",
   "metadata": {},
   "source": [
    "## 2. Pipeline de Preprocesamiento Manual\n",
    "\n",
    "Aquí definimos un pipeline de preprocesamiento paso a paso."
   ]
  },
  {
   "cell_type": "code",
   "execution_count": null,
   "metadata": {},
   "outputs": [],
   "source": [
    "# Separar características y objetivo\n",
    "X = df.drop('nivel_riesgo', axis=1)\n",
    "y = df['nivel_riesgo']\n",
    "\n",
    "# Identificar tipos de columnas\n",
    "columnas_numericas = X.select_dtypes(include=np.number).columns.tolist()\n",
    "columnas_categoricas = X.select_dtypes(include='object').columns.tolist()\n",
    "\n",
    "# a) Imputación de nulos\n",
    "imputador_num = ImputadorNumericoMediana(variables=columnas_numericas)\n",
    "imputador_cat = ImputadorCategoricoModa(variables=columnas_categoricas)\n",
    "\n",
    "imputador_num.fit(X)\n",
    "X_imputado = imputador_num.transform(X)\n",
    "\n",
    "imputador_cat.fit(X_imputado)\n",
    "X_imputado = imputador_cat.transform(X_imputado)\n",
    "\n",
    "print(\"Valores nulos después de la imputación:\")\n",
    "print(X_imputado.isnull().sum().sum())\n",
    "\n",
    "# b) Codificación One-Hot para categóricas\n",
    "codificador_onehot = OneHotManual(variables=columnas_categoricas)\n",
    "codificador_onehot.fit(X_imputado)\n",
    "X_codificado = codificador_onehot.transform(X_imputado)\n",
    "\n",
    "# c) Escalado de características numéricas restantes\n",
    "columnas_numericas_finales = X_codificado.select_dtypes(include=np.number).columns.tolist()\n",
    "escalador = EscaladorEstandarManual()\n",
    "escalador.fit(X_codificado[columnas_numericas_finales])\n",
    "X_procesado_np = escalador.transform(X_codificado[columnas_numericas_finales]).values\n",
    "\n",
    "print(f\"\\nForma de los datos procesados: {X_procesado_np.shape}\")"
   ]
  },
  {
   "cell_type": "markdown",
   "metadata": {},
   "source": [
    "## 3. Construcción de Características\n",
    "\n",
    "Ahora usamos el script `build_features` para generar nuevas características y guardar el resultado."
   ]
  },
  {
   "cell_type": "code",
   "execution_count": null,
   "metadata": {},
   "outputs": [],
   "source": [
    "RUTA_SALIDA_FEATURES = '../data/processed/X_train_con_features.csv'\n",
    "\n",
    "construir_caracteristicas(\n",
    "    ruta_entrada=RUTA_DATOS_ENTRENAMIENTO, \n",
    "    ruta_salida=RUTA_SALIDA_FEATURES\n",
    ")\n",
    "\n",
    "# Cargar y mostrar el resultado\n",
    "df_con_features = pd.read_csv(RUTA_SALIDA_FEATURES)\n",
    "print(\"\\nDataFrame con nuevas características:\")\n",
    "df_con_features.head()"
   ]
  }
 ],
 "metadata": {
  "kernelspec": {
   "display_name": "Python 3",
   "language": "python",
   "name": "python3"
  },
  "language_info": {
   "name": "python",
   "version": "3.9.7"
  }
 },
 "nbformat": 4,
 "nbformat_minor": 4
}